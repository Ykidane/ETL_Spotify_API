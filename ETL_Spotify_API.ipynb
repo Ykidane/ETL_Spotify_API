{
 "cells": [
  {
   "cell_type": "code",
   "execution_count": 3,
   "metadata": {},
   "outputs": [],
   "source": [
    "#Author: Yohannes \n",
    "#Importing packages \n",
    "import requests\n",
    "import pandas as pd \n",
    "import datetime \n",
    "import base64\n",
    "from urllib.parse import urlencode\n",
    "import json\n",
    "import psycopg2 as ps "
   ]
  },
  {
   "cell_type": "code",
   "execution_count": null,
   "metadata": {},
   "outputs": [],
   "source": [
    "#Getting client_id and client_secret from spotify\n",
    "#Client credentials \n",
    " \n",
    "client_id = \"xxxxxxxxx\"\n",
    "client_secret = \"xxxxxxxxx\"\n",
    "\n",
    "#Encoding client_id and client_secret using base64\n",
    "client_creds = f\"{client_id}:{client_secret}\"\n",
    "client_creds_b64 = base64.b64encode(client_creds.encode())\n",
    "client_creds_b64"
   ]
  },
  {
   "cell_type": "code",
   "execution_count": null,
   "metadata": {},
   "outputs": [],
   "source": [
    "#Authorization to grant spotify access permission to extract data \n",
    "\n",
    "token_url = \"https://accounts.spotify.com/api/token\"\n",
    "method = \"POST\"\n",
    "\n",
    "token_data = {\n",
    "          \"grant_type\": \"client_credentials\"\n",
    "}\n",
    "\n",
    "token_headers = {\n",
    "        \"Authorization\": f\"Basic {client_creds_b64.decode()}\"\n",
    "}\n",
    "token_headers"
   ]
  },
  {
   "cell_type": "code",
   "execution_count": 5,
   "metadata": {},
   "outputs": [
    {
     "data": {
      "text/plain": [
       "200"
      ]
     },
     "execution_count": 5,
     "metadata": {},
     "output_type": "execute_result"
    }
   ],
   "source": [
    "req = requests.post(token_url, data = token_data, headers = token_headers)\n",
    "token_response_data = req.json()\n",
    "req.status_code"
   ]
  },
  {
   "cell_type": "code",
   "execution_count": null,
   "metadata": {},
   "outputs": [],
   "source": [
    "token_response_data = req.json()\n",
    "access_token = token_response_data['access_token']\n",
    "expires_in = token_response_data['expires_in'] #the time is in seconds\n",
    "token_type = token_response_data['token_type']\n",
    "token_response_data"
   ]
  },
  {
   "cell_type": "code",
   "execution_count": null,
   "metadata": {},
   "outputs": [],
   "source": [
    "token_headers = {\n",
    "    \"Authorization\": f\"Bearer {access_token}\"\n",
    "}\n",
    "\n",
    "endpoint = \"https://api.spotify.com/v1/search\"\n",
    "data = urlencode({\n",
    "    \"q\": \"R&B\",\n",
    "    \"type\": \"artist\"\n",
    "})\n",
    "print(data)\n",
    "\n",
    "lookup_url = f\"{endpoint}?{data}\"\n",
    "print(lookup_url)\n",
    "\n",
    "res = requests.get(lookup_url, headers=token_headers)\n",
    "res = res.json()\n",
    "res"
   ]
  },
  {
   "cell_type": "code",
   "execution_count": null,
   "metadata": {},
   "outputs": [],
   "source": [
    "artists = res['artists']['items']\n",
    "df = pd.json_normalize(artists)\n",
    "df.info()"
   ]
  },
  {
   "cell_type": "code",
   "execution_count": null,
   "metadata": {},
   "outputs": [],
   "source": [
    "# drop columns: followers href, images, href, uri \n",
    "df = df.drop(['href', 'images', 'uri', 'followers.href', 'external_urls.spotify'], axis=1,)\n",
    "df.head()"
   ]
  },
  {
   "cell_type": "code",
   "execution_count": null,
   "metadata": {},
   "outputs": [],
   "source": [
    "#Popularity\n",
    "df.groupby(['name'])['popularity'].sum().sort_values(ascending=False)"
   ]
  },
  {
   "cell_type": "code",
   "execution_count": null,
   "metadata": {},
   "outputs": [],
   "source": [
    "#Number of followers\n",
    "df.groupby(['name'])['followers.total'].sum().sort_values(ascending=False)"
   ]
  },
  {
   "cell_type": "code",
   "execution_count": null,
   "metadata": {},
   "outputs": [],
   "source": [
    "# Connecting to Rds database \n",
    "def connect_to_db(host_name, dbname, port, username, password):\n",
    "    try:\n",
    "        conn = ps.connect(host=host_name, database=dbname,\n",
    "                          user=username, password=password, port=port)\n",
    "    except ps.OperationalError as e:\n",
    "        raise e\n",
    "    else:\n",
    "        print(\"connected\")\n",
    "\n",
    "    return conn"
   ]
  },
  {
   "cell_type": "code",
   "execution_count": null,
   "metadata": {},
   "outputs": [],
   "source": [
    "host_name = \"xxxxx\"\n",
    "dbname = 'xxxxx'\n",
    "port = 'xxxx'\n",
    "username = 'postgres'\n",
    "password = 'xxxxxxxxx'\n",
    "conn = None\n",
    "\n",
    "conn = connect_to_db(host_name, dbname, port, username, password)"
   ]
  }
 ],
 "metadata": {
  "kernelspec": {
   "display_name": "Python 3.8.3 ('base')",
   "language": "python",
   "name": "python3"
  },
  "language_info": {
   "codemirror_mode": {
    "name": "ipython",
    "version": 3
   },
   "file_extension": ".py",
   "mimetype": "text/x-python",
   "name": "python",
   "nbconvert_exporter": "python",
   "pygments_lexer": "ipython3",
   "version": "3.8.3"
  },
  "orig_nbformat": 4,
  "vscode": {
   "interpreter": {
    "hash": "f77b9556f66164db377e7a0fd9291efde18ec44d39a0a196d8ad0f1c9242aba7"
   }
  }
 },
 "nbformat": 4,
 "nbformat_minor": 2
}
