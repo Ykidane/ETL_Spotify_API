{
 "cells": [
  {
   "cell_type": "code",
   "execution_count": null,
   "metadata": {},
   "outputs": [],
   "source": [
    "#Importing packages \n",
    "\n",
    "import request as re \n",
    "import pandas as pd \n",
    "import datetime \n",
    "import base64"
   ]
  },
  {
   "cell_type": "code",
   "execution_count": null,
   "metadata": {},
   "outputs": [],
   "source": [
    "#Getting client_id and client_secret from spotify \n",
    "client_id = \"xxxxxxxxxxxx\"\n",
    "client_secret = \"xxxxxxxxxxxx\"\n",
    "\n",
    "client_creds = f\"{client_id}:{client_secret}\"\n",
    "client_creds_b64 = base64.b64encode(client_creds.encode())\n",
    "client_creds_b64"
   ]
  },
  {
   "cell_type": "code",
   "execution_count": null,
   "metadata": {},
   "outputs": [],
   "source": [
    "token_url = \"https://accounts.spotify.com/api/token\"\n",
    "method = \"POST\"\n",
    "\n",
    "token_data = {\n",
    "          \"grant_type\": \"client_credentials\"\n",
    "}\n",
    "\n",
    "token_headers = {\n",
    "        \"Authorization\": f\"Basic {client_creds_b64.decode()}\"\n",
    "}\n",
    "token_headers"
   ]
  },
  {
   "cell_type": "code",
   "execution_count": null,
   "metadata": {},
   "outputs": [],
   "source": [
    "req = requests.post(token_url, data = token_data, headers = token_headers)\n",
    "token_response_data = req.json()\n",
    "req.status_code"
   ]
  },
  {
   "cell_type": "code",
   "execution_count": null,
   "metadata": {},
   "outputs": [],
   "source": [
    "token_response_data = req.json()\n",
    "access_token = token_response_data['access_token']\n",
    "expires_in = token_response_data['expires_in'] #the time is in seconds\n",
    "token_type = token_response_data['token_type']\n",
    "token_response_data"
   ]
  }
 ],
 "metadata": {
  "language_info": {
   "name": "python"
  },
  "orig_nbformat": 4
 },
 "nbformat": 4,
 "nbformat_minor": 2
}
