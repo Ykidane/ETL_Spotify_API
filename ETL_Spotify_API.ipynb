{
 "cells": [
  {
   "cell_type": "code",
   "execution_count": 3,
   "metadata": {},
   "outputs": [],
   "source": [
    "#Author: Yohannes \n",
    "#Importing packages \n",
    "import requests\n",
    "import pandas as pd \n",
    "import datetime \n",
    "import base64\n",
    "from urllib.parse import urlencode\n",
    "import json\n",
    "import psycopg2 as ps "
   ]
  },
  {
   "cell_type": "code",
   "execution_count": null,
   "metadata": {},
   "outputs": [],
   "source": [
    "#Getting client_id and client_secret from spotify\n",
    "#Client credentials \n",
    " \n",
    "client_id = \"xxxxxxxxx\"\n",
    "client_secret = \"xxxxxxxxx\"\n",
    "\n",
    "#Encoding client_id and client_secret using base64\n",
    "client_creds = f\"{client_id}:{client_secret}\"\n",
    "client_creds_b64 = base64.b64encode(client_creds.encode())\n",
    "client_creds_b64"
   ]
  },
  {
   "cell_type": "code",
   "execution_count": null,
   "metadata": {},
   "outputs": [],
   "source": [
    "#Authorization to grant spotify access permission to extract data \n",
    "\n",
    "token_url = \"https://accounts.spotify.com/api/token\"\n",
    "method = \"POST\"\n",
    "\n",
    "token_data = {\n",
    "          \"grant_type\": \"client_credentials\"\n",
    "}\n",
    "\n",
    "token_headers = {\n",
    "        \"Authorization\": f\"Basic {client_creds_b64.decode()}\"\n",
    "}\n",
    "token_headers"
   ]
  },
  {
   "cell_type": "code",
   "execution_count": 5,
   "metadata": {},
   "outputs": [
    {
     "data": {
      "text/plain": [
       "200"
      ]
     },
     "execution_count": 5,
     "metadata": {},
     "output_type": "execute_result"
    }
   ],
   "source": [
    "req = requests.post(token_url, data = token_data, headers = token_headers)\n",
    "token_response_data = req.json()\n",
    "req.status_code"
   ]
  },
  {
   "cell_type": "code",
   "execution_count": null,
   "metadata": {},
   "outputs": [],
   "source": [
    "token_response_data = req.json()\n",
    "access_token = token_response_data['access_token']\n",
    "expires_in = token_response_data['expires_in'] #the time is in seconds\n",
    "token_type = token_response_data['token_type']\n",
    "token_response_data"
   ]
  },
  {
   "cell_type": "code",
   "execution_count": null,
   "metadata": {},
   "outputs": [],
   "source": [
    "token_headers = {\n",
    "    \"Authorization\": f\"Bearer {access_token}\"\n",
    "}\n",
    "\n",
    "endpoint = \"https://api.spotify.com/v1/search\"\n",
    "data = urlencode({\n",
    "    \"q\": \"R&B\",\n",
    "    \"type\": \"artist\"\n",
    "})\n",
    "print(data)\n",
    "\n",
    "lookup_url = f\"{endpoint}?{data}\"\n",
    "print(lookup_url)\n",
    "\n",
    "res = requests.get(lookup_url, headers=token_headers)\n",
    "res = res.json()\n",
    "res"
   ]
  },
  {
   "cell_type": "code",
   "execution_count": 46,
   "metadata": {},
   "outputs": [
    {
     "name": "stdout",
     "output_type": "stream",
     "text": [
      "<class 'pandas.core.frame.DataFrame'>\n",
      "RangeIndex: 20 entries, 0 to 19\n",
      "Data columns (total 11 columns):\n",
      " #   Column                 Non-Null Count  Dtype \n",
      "---  ------                 --------------  ----- \n",
      " 0   genres                 20 non-null     object\n",
      " 1   href                   20 non-null     object\n",
      " 2   id                     20 non-null     object\n",
      " 3   images                 20 non-null     object\n",
      " 4   name                   20 non-null     object\n",
      " 5   popularity             20 non-null     int64 \n",
      " 6   type                   20 non-null     object\n",
      " 7   uri                    20 non-null     object\n",
      " 8   external_urls.spotify  20 non-null     object\n",
      " 9   followers.href         0 non-null      object\n",
      " 10  followers.total        20 non-null     int64 \n",
      "dtypes: int64(2), object(9)\n",
      "memory usage: 1.8+ KB\n"
     ]
    }
   ],
   "source": [
    "artists = res['artists']['items']\n",
    "df = pd.json_normalize(artists)\n",
    "df.info()"
   ]
  },
  {
   "cell_type": "code",
   "execution_count": 47,
   "metadata": {},
   "outputs": [
    {
     "data": {
      "text/html": [
       "<div>\n",
       "<style scoped>\n",
       "    .dataframe tbody tr th:only-of-type {\n",
       "        vertical-align: middle;\n",
       "    }\n",
       "\n",
       "    .dataframe tbody tr th {\n",
       "        vertical-align: top;\n",
       "    }\n",
       "\n",
       "    .dataframe thead th {\n",
       "        text-align: right;\n",
       "    }\n",
       "</style>\n",
       "<table border=\"1\" class=\"dataframe\">\n",
       "  <thead>\n",
       "    <tr style=\"text-align: right;\">\n",
       "      <th></th>\n",
       "      <th>genres</th>\n",
       "      <th>href</th>\n",
       "      <th>id</th>\n",
       "      <th>images</th>\n",
       "      <th>name</th>\n",
       "      <th>popularity</th>\n",
       "      <th>type</th>\n",
       "      <th>uri</th>\n",
       "      <th>external_urls.spotify</th>\n",
       "      <th>followers.href</th>\n",
       "      <th>followers.total</th>\n",
       "    </tr>\n",
       "  </thead>\n",
       "  <tbody>\n",
       "    <tr>\n",
       "      <th>0</th>\n",
       "      <td>[ambient, drift, drone, modular synth]</td>\n",
       "      <td>https://api.spotify.com/v1/artists/1J8H4wufuy6...</td>\n",
       "      <td>1J8H4wufuy6qxfdRbJr5xG</td>\n",
       "      <td>[{'height': 640, 'url': 'https://i.scdn.co/ima...</td>\n",
       "      <td>r beny</td>\n",
       "      <td>25</td>\n",
       "      <td>artist</td>\n",
       "      <td>spotify:artist:1J8H4wufuy6qxfdRbJr5xG</td>\n",
       "      <td>https://open.spotify.com/artist/1J8H4wufuy6qxf...</td>\n",
       "      <td>None</td>\n",
       "      <td>5467</td>\n",
       "    </tr>\n",
       "    <tr>\n",
       "      <th>1</th>\n",
       "      <td>[]</td>\n",
       "      <td>https://api.spotify.com/v1/artists/6bqSlyAFbSP...</td>\n",
       "      <td>6bqSlyAFbSP2MlV8PnK0f7</td>\n",
       "      <td>[{'height': 640, 'url': 'https://i.scdn.co/ima...</td>\n",
       "      <td>R&amp;B Kenny</td>\n",
       "      <td>14</td>\n",
       "      <td>artist</td>\n",
       "      <td>spotify:artist:6bqSlyAFbSP2MlV8PnK0f7</td>\n",
       "      <td>https://open.spotify.com/artist/6bqSlyAFbSP2Ml...</td>\n",
       "      <td>None</td>\n",
       "      <td>625</td>\n",
       "    </tr>\n",
       "    <tr>\n",
       "      <th>2</th>\n",
       "      <td>[pop rap, r&amp;b, urban contemporary]</td>\n",
       "      <td>https://api.spotify.com/v1/artists/6gbGGM0E8Q1...</td>\n",
       "      <td>6gbGGM0E8Q1hE511psqxL0</td>\n",
       "      <td>[{'height': 640, 'url': 'https://i.scdn.co/ima...</td>\n",
       "      <td>Ray J</td>\n",
       "      <td>56</td>\n",
       "      <td>artist</td>\n",
       "      <td>spotify:artist:6gbGGM0E8Q1hE511psqxL0</td>\n",
       "      <td>https://open.spotify.com/artist/6gbGGM0E8Q1hE5...</td>\n",
       "      <td>None</td>\n",
       "      <td>713575</td>\n",
       "    </tr>\n",
       "    <tr>\n",
       "      <th>3</th>\n",
       "      <td>[chillhop, lo-fi beats]</td>\n",
       "      <td>https://api.spotify.com/v1/artists/1VVouGyPhjh...</td>\n",
       "      <td>1VVouGyPhjhUuaoCBZ0dFe</td>\n",
       "      <td>[{'height': 640, 'url': 'https://i.scdn.co/ima...</td>\n",
       "      <td>H E R B</td>\n",
       "      <td>43</td>\n",
       "      <td>artist</td>\n",
       "      <td>spotify:artist:1VVouGyPhjhUuaoCBZ0dFe</td>\n",
       "      <td>https://open.spotify.com/artist/1VVouGyPhjhUua...</td>\n",
       "      <td>None</td>\n",
       "      <td>21218</td>\n",
       "    </tr>\n",
       "    <tr>\n",
       "      <th>4</th>\n",
       "      <td>[]</td>\n",
       "      <td>https://api.spotify.com/v1/artists/4k4hx5zjghJ...</td>\n",
       "      <td>4k4hx5zjghJbOIeGxlmy4X</td>\n",
       "      <td>[{'height': 640, 'url': 'https://i.scdn.co/ima...</td>\n",
       "      <td>R&amp;B Red</td>\n",
       "      <td>7</td>\n",
       "      <td>artist</td>\n",
       "      <td>spotify:artist:4k4hx5zjghJbOIeGxlmy4X</td>\n",
       "      <td>https://open.spotify.com/artist/4k4hx5zjghJbOI...</td>\n",
       "      <td>None</td>\n",
       "      <td>26</td>\n",
       "    </tr>\n",
       "  </tbody>\n",
       "</table>\n",
       "</div>"
      ],
      "text/plain": [
       "                                   genres  \\\n",
       "0  [ambient, drift, drone, modular synth]   \n",
       "1                                      []   \n",
       "2      [pop rap, r&b, urban contemporary]   \n",
       "3                 [chillhop, lo-fi beats]   \n",
       "4                                      []   \n",
       "\n",
       "                                                href                      id  \\\n",
       "0  https://api.spotify.com/v1/artists/1J8H4wufuy6...  1J8H4wufuy6qxfdRbJr5xG   \n",
       "1  https://api.spotify.com/v1/artists/6bqSlyAFbSP...  6bqSlyAFbSP2MlV8PnK0f7   \n",
       "2  https://api.spotify.com/v1/artists/6gbGGM0E8Q1...  6gbGGM0E8Q1hE511psqxL0   \n",
       "3  https://api.spotify.com/v1/artists/1VVouGyPhjh...  1VVouGyPhjhUuaoCBZ0dFe   \n",
       "4  https://api.spotify.com/v1/artists/4k4hx5zjghJ...  4k4hx5zjghJbOIeGxlmy4X   \n",
       "\n",
       "                                              images       name  popularity  \\\n",
       "0  [{'height': 640, 'url': 'https://i.scdn.co/ima...     r beny          25   \n",
       "1  [{'height': 640, 'url': 'https://i.scdn.co/ima...  R&B Kenny          14   \n",
       "2  [{'height': 640, 'url': 'https://i.scdn.co/ima...      Ray J          56   \n",
       "3  [{'height': 640, 'url': 'https://i.scdn.co/ima...    H E R B          43   \n",
       "4  [{'height': 640, 'url': 'https://i.scdn.co/ima...    R&B Red           7   \n",
       "\n",
       "     type                                    uri  \\\n",
       "0  artist  spotify:artist:1J8H4wufuy6qxfdRbJr5xG   \n",
       "1  artist  spotify:artist:6bqSlyAFbSP2MlV8PnK0f7   \n",
       "2  artist  spotify:artist:6gbGGM0E8Q1hE511psqxL0   \n",
       "3  artist  spotify:artist:1VVouGyPhjhUuaoCBZ0dFe   \n",
       "4  artist  spotify:artist:4k4hx5zjghJbOIeGxlmy4X   \n",
       "\n",
       "                               external_urls.spotify followers.href  \\\n",
       "0  https://open.spotify.com/artist/1J8H4wufuy6qxf...           None   \n",
       "1  https://open.spotify.com/artist/6bqSlyAFbSP2Ml...           None   \n",
       "2  https://open.spotify.com/artist/6gbGGM0E8Q1hE5...           None   \n",
       "3  https://open.spotify.com/artist/1VVouGyPhjhUua...           None   \n",
       "4  https://open.spotify.com/artist/4k4hx5zjghJbOI...           None   \n",
       "\n",
       "   followers.total  \n",
       "0             5467  \n",
       "1              625  \n",
       "2           713575  \n",
       "3            21218  \n",
       "4               26  "
      ]
     },
     "execution_count": 47,
     "metadata": {},
     "output_type": "execute_result"
    }
   ],
   "source": [
    "df.head()"
   ]
  },
  {
   "cell_type": "code",
   "execution_count": 48,
   "metadata": {},
   "outputs": [
    {
     "data": {
      "text/html": [
       "<div>\n",
       "<style scoped>\n",
       "    .dataframe tbody tr th:only-of-type {\n",
       "        vertical-align: middle;\n",
       "    }\n",
       "\n",
       "    .dataframe tbody tr th {\n",
       "        vertical-align: top;\n",
       "    }\n",
       "\n",
       "    .dataframe thead th {\n",
       "        text-align: right;\n",
       "    }\n",
       "</style>\n",
       "<table border=\"1\" class=\"dataframe\">\n",
       "  <thead>\n",
       "    <tr style=\"text-align: right;\">\n",
       "      <th></th>\n",
       "      <th>genres</th>\n",
       "      <th>id</th>\n",
       "      <th>name</th>\n",
       "      <th>popularity</th>\n",
       "      <th>type</th>\n",
       "      <th>followers.total</th>\n",
       "    </tr>\n",
       "  </thead>\n",
       "  <tbody>\n",
       "    <tr>\n",
       "      <th>0</th>\n",
       "      <td>[ambient, drift, drone, modular synth]</td>\n",
       "      <td>1J8H4wufuy6qxfdRbJr5xG</td>\n",
       "      <td>r beny</td>\n",
       "      <td>25</td>\n",
       "      <td>artist</td>\n",
       "      <td>5467</td>\n",
       "    </tr>\n",
       "    <tr>\n",
       "      <th>1</th>\n",
       "      <td>[]</td>\n",
       "      <td>6bqSlyAFbSP2MlV8PnK0f7</td>\n",
       "      <td>R&amp;B Kenny</td>\n",
       "      <td>14</td>\n",
       "      <td>artist</td>\n",
       "      <td>625</td>\n",
       "    </tr>\n",
       "    <tr>\n",
       "      <th>2</th>\n",
       "      <td>[pop rap, r&amp;b, urban contemporary]</td>\n",
       "      <td>6gbGGM0E8Q1hE511psqxL0</td>\n",
       "      <td>Ray J</td>\n",
       "      <td>56</td>\n",
       "      <td>artist</td>\n",
       "      <td>713575</td>\n",
       "    </tr>\n",
       "    <tr>\n",
       "      <th>3</th>\n",
       "      <td>[chillhop, lo-fi beats]</td>\n",
       "      <td>1VVouGyPhjhUuaoCBZ0dFe</td>\n",
       "      <td>H E R B</td>\n",
       "      <td>43</td>\n",
       "      <td>artist</td>\n",
       "      <td>21218</td>\n",
       "    </tr>\n",
       "    <tr>\n",
       "      <th>4</th>\n",
       "      <td>[]</td>\n",
       "      <td>4k4hx5zjghJbOIeGxlmy4X</td>\n",
       "      <td>R&amp;B Red</td>\n",
       "      <td>7</td>\n",
       "      <td>artist</td>\n",
       "      <td>26</td>\n",
       "    </tr>\n",
       "  </tbody>\n",
       "</table>\n",
       "</div>"
      ],
      "text/plain": [
       "                                   genres                      id       name  \\\n",
       "0  [ambient, drift, drone, modular synth]  1J8H4wufuy6qxfdRbJr5xG     r beny   \n",
       "1                                      []  6bqSlyAFbSP2MlV8PnK0f7  R&B Kenny   \n",
       "2      [pop rap, r&b, urban contemporary]  6gbGGM0E8Q1hE511psqxL0      Ray J   \n",
       "3                 [chillhop, lo-fi beats]  1VVouGyPhjhUuaoCBZ0dFe    H E R B   \n",
       "4                                      []  4k4hx5zjghJbOIeGxlmy4X    R&B Red   \n",
       "\n",
       "   popularity    type  followers.total  \n",
       "0          25  artist             5467  \n",
       "1          14  artist              625  \n",
       "2          56  artist           713575  \n",
       "3          43  artist            21218  \n",
       "4           7  artist               26  "
      ]
     },
     "execution_count": 48,
     "metadata": {},
     "output_type": "execute_result"
    }
   ],
   "source": [
    "# drop columns: followers href, images, href, uri \n",
    "df = df.drop(['href', 'images', 'uri', 'followers.href', 'external_urls.spotify'], axis=1,)\n",
    "df.head()"
   ]
  },
  {
   "cell_type": "code",
   "execution_count": 49,
   "metadata": {},
   "outputs": [
    {
     "data": {
      "text/plain": [
       "name\n",
       "H.E.R.          75\n",
       "Ashanti         70\n",
       "Keyshia Cole    65\n",
       "Bobby V.        58\n",
       "Ray J           56\n",
       "Avant           55\n",
       "H E R B         43\n",
       "Sam R Barber    42\n",
       "R.B. Greaves    34\n",
       "Sammi Vilano    34\n",
       "R. Bais         26\n",
       "r beny          25\n",
       "Dre R&B         18\n",
       "R&B Kenny       14\n",
       "R&B Music       10\n",
       "R&B Red         10\n",
       "R & B            9\n",
       "R&bzoe           9\n",
       "R&B              8\n",
       "Name: popularity, dtype: int64"
      ]
     },
     "execution_count": 49,
     "metadata": {},
     "output_type": "execute_result"
    }
   ],
   "source": [
    "#Popularity\n",
    "df.groupby(['name'])['popularity'].sum().sort_values(ascending=False)"
   ]
  },
  {
   "cell_type": "code",
   "execution_count": 50,
   "metadata": {},
   "outputs": [
    {
     "data": {
      "text/plain": [
       "name\n",
       "H.E.R.          5640108\n",
       "Keyshia Cole    3209864\n",
       "Ashanti         2546475\n",
       "Avant           1280496\n",
       "Bobby V.         846778\n",
       "Ray J            713575\n",
       "R&B               23726\n",
       "H E R B           21218\n",
       "Sam R Barber       8561\n",
       "R & B              6143\n",
       "r beny             5467\n",
       "R&B Music          5025\n",
       "R.B. Greaves       2054\n",
       "R. Bais             685\n",
       "R&B Kenny           625\n",
       "Sammi Vilano        515\n",
       "R&B Red              89\n",
       "R&bzoe               25\n",
       "Dre R&B               2\n",
       "Name: followers.total, dtype: int64"
      ]
     },
     "execution_count": 50,
     "metadata": {},
     "output_type": "execute_result"
    }
   ],
   "source": [
    "#Number of followers\n",
    "df.groupby(['name'])['followers.total'].sum().sort_values(ascending=False)"
   ]
  },
  {
   "cell_type": "code",
   "execution_count": null,
   "metadata": {},
   "outputs": [],
   "source": [
    "# Connecting to Rds database \n",
    "def connect_to_db(host_name, dbname, port, username, password):\n",
    "    try:\n",
    "        conn = ps.connect(host=host_name, database=dbname,\n",
    "                          user=username, password=password, port=port)\n",
    "    except ps.OperationalError as e:\n",
    "        raise e\n",
    "    else:\n",
    "        print(\"connected\")\n",
    "\n",
    "    return conn"
   ]
  },
  {
   "cell_type": "code",
   "execution_count": null,
   "metadata": {},
   "outputs": [],
   "source": [
    "host_name = \"xxxxx\"\n",
    "dbname = 'xxxxx'\n",
    "port = 'xxxx'\n",
    "username = 'postgres'\n",
    "password = 'xxxxxxxxx'\n",
    "conn = None\n",
    "\n",
    "conn = connect_to_db(host_name, dbname, port, username, password)"
   ]
  }
 ],
 "metadata": {
  "kernelspec": {
   "display_name": "Python 3.8.3 ('base')",
   "language": "python",
   "name": "python3"
  },
  "language_info": {
   "codemirror_mode": {
    "name": "ipython",
    "version": 3
   },
   "file_extension": ".py",
   "mimetype": "text/x-python",
   "name": "python",
   "nbconvert_exporter": "python",
   "pygments_lexer": "ipython3",
   "version": "3.8.3"
  },
  "orig_nbformat": 4,
  "vscode": {
   "interpreter": {
    "hash": "f77b9556f66164db377e7a0fd9291efde18ec44d39a0a196d8ad0f1c9242aba7"
   }
  }
 },
 "nbformat": 4,
 "nbformat_minor": 2
}
